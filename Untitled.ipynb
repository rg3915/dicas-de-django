{
 "cells": [
  {
   "cell_type": "code",
   "execution_count": 1,
   "id": "024efd91",
   "metadata": {},
   "outputs": [],
   "source": [
    "import pandas as pd"
   ]
  },
  {
   "cell_type": "code",
   "execution_count": 2,
   "id": "ffcf82d0",
   "metadata": {},
   "outputs": [],
   "source": [
    "df = pd.read_csv('/tmp/products.csv')"
   ]
  },
  {
   "cell_type": "code",
   "execution_count": 3,
   "id": "782c9257",
   "metadata": {},
   "outputs": [
    {
     "data": {
      "text/html": [
       "<div>\n",
       "<style scoped>\n",
       "    .dataframe tbody tr th:only-of-type {\n",
       "        vertical-align: middle;\n",
       "    }\n",
       "\n",
       "    .dataframe tbody tr th {\n",
       "        vertical-align: top;\n",
       "    }\n",
       "\n",
       "    .dataframe thead th {\n",
       "        text-align: right;\n",
       "    }\n",
       "</style>\n",
       "<table border=\"1\" class=\"dataframe\">\n",
       "  <thead>\n",
       "    <tr style=\"text-align: right;\">\n",
       "      <th></th>\n",
       "      <th>title</th>\n",
       "      <th>price</th>\n",
       "    </tr>\n",
       "  </thead>\n",
       "  <tbody>\n",
       "    <tr>\n",
       "      <th>0</th>\n",
       "      <td>Granite Shirt b6ff24d2</td>\n",
       "      <td>86.15</td>\n",
       "    </tr>\n",
       "    <tr>\n",
       "      <th>1</th>\n",
       "      <td>Bacon 27cf33e2</td>\n",
       "      <td>35.67</td>\n",
       "    </tr>\n",
       "    <tr>\n",
       "      <th>2</th>\n",
       "      <td>Unbranded Cheese 1c3925ec</td>\n",
       "      <td>69.00</td>\n",
       "    </tr>\n",
       "    <tr>\n",
       "      <th>3</th>\n",
       "      <td>Hat 9f98d5a7</td>\n",
       "      <td>26.38</td>\n",
       "    </tr>\n",
       "    <tr>\n",
       "      <th>4</th>\n",
       "      <td>Unbranded Steel Bacon 22f7e39d</td>\n",
       "      <td>37.61</td>\n",
       "    </tr>\n",
       "    <tr>\n",
       "      <th>...</th>\n",
       "      <td>...</td>\n",
       "      <td>...</td>\n",
       "    </tr>\n",
       "    <tr>\n",
       "      <th>95</th>\n",
       "      <td>Rustic Wooden Soap 948b785a</td>\n",
       "      <td>34.46</td>\n",
       "    </tr>\n",
       "    <tr>\n",
       "      <th>96</th>\n",
       "      <td>Intelligent Ball 7aaeb138</td>\n",
       "      <td>97.82</td>\n",
       "    </tr>\n",
       "    <tr>\n",
       "      <th>97</th>\n",
       "      <td>Concrete Ball 93b58e0a</td>\n",
       "      <td>82.94</td>\n",
       "    </tr>\n",
       "    <tr>\n",
       "      <th>98</th>\n",
       "      <td>Sausages 18573661</td>\n",
       "      <td>36.61</td>\n",
       "    </tr>\n",
       "    <tr>\n",
       "      <th>99</th>\n",
       "      <td>Gorgeous Shirt b14d2135</td>\n",
       "      <td>67.06</td>\n",
       "    </tr>\n",
       "  </tbody>\n",
       "</table>\n",
       "<p>100 rows × 2 columns</p>\n",
       "</div>"
      ],
      "text/plain": [
       "                             title  price\n",
       "0           Granite Shirt b6ff24d2  86.15\n",
       "1                   Bacon 27cf33e2  35.67\n",
       "2        Unbranded Cheese 1c3925ec  69.00\n",
       "3                     Hat 9f98d5a7  26.38\n",
       "4   Unbranded Steel Bacon 22f7e39d  37.61\n",
       "..                             ...    ...\n",
       "95     Rustic Wooden Soap 948b785a  34.46\n",
       "96       Intelligent Ball 7aaeb138  97.82\n",
       "97          Concrete Ball 93b58e0a  82.94\n",
       "98               Sausages 18573661  36.61\n",
       "99         Gorgeous Shirt b14d2135  67.06\n",
       "\n",
       "[100 rows x 2 columns]"
      ]
     },
     "execution_count": 3,
     "metadata": {},
     "output_type": "execute_result"
    }
   ],
   "source": [
    "df"
   ]
  },
  {
   "cell_type": "code",
   "execution_count": 4,
   "id": "6b2ce4f7",
   "metadata": {},
   "outputs": [
    {
     "data": {
      "text/plain": [
       "title    Wooden Tuna 1d247adb\n",
       "price                   97.92\n",
       "dtype: object"
      ]
     },
     "execution_count": 4,
     "metadata": {},
     "output_type": "execute_result"
    }
   ],
   "source": [
    "df.max()"
   ]
  },
  {
   "cell_type": "code",
   "execution_count": 5,
   "id": "6a212b95",
   "metadata": {},
   "outputs": [
    {
     "data": {
      "text/plain": [
       "title    Awesome Bike d9087800\n",
       "price                     3.64\n",
       "dtype: object"
      ]
     },
     "execution_count": 5,
     "metadata": {},
     "output_type": "execute_result"
    }
   ],
   "source": [
    "df.min()"
   ]
  },
  {
   "cell_type": "code",
   "execution_count": 6,
   "id": "53443d86",
   "metadata": {},
   "outputs": [
    {
     "data": {
      "text/plain": [
       "(100, {'product.Product': 100})"
      ]
     },
     "execution_count": 6,
     "metadata": {},
     "output_type": "execute_result"
    }
   ],
   "source": [
    "Product.objects.all().delete()"
   ]
  },
  {
   "cell_type": "code",
   "execution_count": 7,
   "id": "4fa43ccb",
   "metadata": {},
   "outputs": [],
   "source": [
    "def save_data(data):\n",
    "    '''\n",
    "    Salva os dados no banco.\n",
    "    '''\n",
    "    aux = []\n",
    "    for item in data:\n",
    "        title = item.get('title')\n",
    "        price = item.get('price')\n",
    "        obj = Product(\n",
    "            title=title,\n",
    "            price=price,\n",
    "        )\n",
    "        aux.append(obj)\n",
    "\n",
    "    Product.objects.bulk_create(aux)"
   ]
  },
  {
   "cell_type": "code",
   "execution_count": 8,
   "id": "23e16b0f",
   "metadata": {},
   "outputs": [],
   "source": [
    "data = []"
   ]
  },
  {
   "cell_type": "code",
   "execution_count": 9,
   "id": "9b5d02fd",
   "metadata": {},
   "outputs": [],
   "source": [
    "for row in df.itertuples():\n",
    "    _dict = dict(title=row.title, price=row.price)\n",
    "    data.append(_dict)"
   ]
  },
  {
   "cell_type": "code",
   "execution_count": 10,
   "id": "c1757539",
   "metadata": {},
   "outputs": [
    {
     "data": {
      "text/plain": [
       "[{'title': 'Granite Shirt b6ff24d2', 'price': 86.15},\n",
       " {'title': 'Bacon 27cf33e2', 'price': 35.67},\n",
       " {'title': 'Unbranded Cheese 1c3925ec', 'price': 69.0},\n",
       " {'title': 'Hat 9f98d5a7', 'price': 26.38},\n",
       " {'title': 'Unbranded Steel Bacon 22f7e39d', 'price': 37.61},\n",
       " {'title': 'Mouse cbde3085', 'price': 18.88},\n",
       " {'title': 'Used Granite Fish d869b59c', 'price': 34.72},\n",
       " {'title': 'Small Cotton Bike ce624ce4', 'price': 9.53},\n",
       " {'title': 'Gorgeous Mouse 57f85609', 'price': 26.63},\n",
       " {'title': 'Granite Chicken 9523d82c', 'price': 43.19},\n",
       " {'title': 'Unbranded Soap 36226b89', 'price': 61.36},\n",
       " {'title': 'Rubber Chair bf2c50c2', 'price': 30.08},\n",
       " {'title': 'Soft Gloves b2a9067e', 'price': 64.35},\n",
       " {'title': 'Sausages 524cbc85', 'price': 46.62},\n",
       " {'title': 'Generic Car 3dd85373', 'price': 84.35},\n",
       " {'title': 'Rubber Chicken 05d34234', 'price': 57.68},\n",
       " {'title': 'Tasty Wooden Bike a1de3dd6', 'price': 83.42},\n",
       " {'title': 'Sleek Soap 951b43dd', 'price': 87.84},\n",
       " {'title': 'Soft Chair 397b0e0f', 'price': 18.56},\n",
       " {'title': 'New Sausages 66e02be1', 'price': 47.5},\n",
       " {'title': 'Intelligent Steel Chips cf3b6a34', 'price': 91.88},\n",
       " {'title': 'Concrete Sausages 03a6edfb', 'price': 84.15},\n",
       " {'title': 'Table 0d46963c', 'price': 44.33},\n",
       " {'title': 'Frozen Cheese 1f82a86f', 'price': 79.24},\n",
       " {'title': 'Sleek Cheese 7beb3200', 'price': 6.46},\n",
       " {'title': 'Ball ea843d7e', 'price': 85.42},\n",
       " {'title': 'Awesome Bike d9087800', 'price': 16.27},\n",
       " {'title': 'Unbranded Chair 4b44826b', 'price': 41.88},\n",
       " {'title': 'Table 6a0bf60d', 'price': 54.72},\n",
       " {'title': 'Cheese 6ad2e2b4', 'price': 81.0},\n",
       " {'title': 'Fish 8efe3918', 'price': 90.28},\n",
       " {'title': 'Intelligent Tuna 2f07e0cd', 'price': 78.55},\n",
       " {'title': 'Incredible Computer da7eb1c6', 'price': 66.62},\n",
       " {'title': 'Granite Table eaf221ad', 'price': 97.92},\n",
       " {'title': 'Metal Table 71cca7b9', 'price': 82.68},\n",
       " {'title': 'Handmade Pizza d4b0f79b', 'price': 69.84},\n",
       " {'title': 'Shoes c4f6cb0c', 'price': 19.02},\n",
       " {'title': 'Plastic Chair 25f71c73', 'price': 65.71},\n",
       " {'title': 'Handmade Cotton Towels 727e3974', 'price': 73.27},\n",
       " {'title': 'Used Table 8869fc54', 'price': 20.27},\n",
       " {'title': 'Tasty Salad 92caa128', 'price': 55.86},\n",
       " {'title': 'Generic Car e2cb458d', 'price': 30.21},\n",
       " {'title': 'Plastic Mouse 17d5464b', 'price': 89.68},\n",
       " {'title': 'Car fd591aef', 'price': 77.74},\n",
       " {'title': 'Licensed Plastic Chicken f4010985', 'price': 43.15},\n",
       " {'title': 'Practical Granite Chips be4da66f', 'price': 23.11},\n",
       " {'title': 'Pizza 2f1ea94a', 'price': 15.05},\n",
       " {'title': 'Unbranded Chair 09751628', 'price': 7.56},\n",
       " {'title': 'Practical Plastic Ball 10729fe6', 'price': 31.06},\n",
       " {'title': 'Cheese 1b00ad2e', 'price': 33.13},\n",
       " {'title': 'Metal Salad a9500ff5', 'price': 74.95},\n",
       " {'title': 'Cotton Soap 88336507', 'price': 63.67},\n",
       " {'title': 'Metal Chicken c2a0dfee', 'price': 34.77},\n",
       " {'title': 'Small Table a53c28f2', 'price': 29.64},\n",
       " {'title': 'Handcrafted Ball d52cb731', 'price': 31.01},\n",
       " {'title': 'Frozen Ball d6ea8e57', 'price': 91.97},\n",
       " {'title': 'Wooden Tuna 1d247adb', 'price': 76.21},\n",
       " {'title': 'Hat e3311aa1', 'price': 17.69},\n",
       " {'title': 'Computer fb7f4596', 'price': 27.45},\n",
       " {'title': 'Keyboard 289133b8', 'price': 22.6},\n",
       " {'title': 'Used Metal Soap c4a36107', 'price': 13.49},\n",
       " {'title': 'Frozen Pizza fbe2c357', 'price': 40.62},\n",
       " {'title': 'Refined Frozen Soap 2228f899', 'price': 62.26},\n",
       " {'title': 'Computer 24838a01', 'price': 72.07},\n",
       " {'title': 'Concrete Fish 2deb179b', 'price': 72.81},\n",
       " {'title': 'Car ead46d65', 'price': 20.42},\n",
       " {'title': 'Unbranded Cotton Towels 3b8c0f3e', 'price': 63.56},\n",
       " {'title': 'Rubber Chair 5ff888a9', 'price': 73.17},\n",
       " {'title': 'Table a588d494', 'price': 3.64},\n",
       " {'title': 'Soft Salad 8d20ddbb', 'price': 51.66},\n",
       " {'title': 'Handcrafted Wooden Computer d434f388', 'price': 17.77},\n",
       " {'title': 'Keyboard e9d2b3da', 'price': 53.2},\n",
       " {'title': 'Soft Chair 53452953', 'price': 34.36},\n",
       " {'title': 'Fish 5bfe41e7', 'price': 90.84},\n",
       " {'title': 'Towels 34de3224', 'price': 71.88},\n",
       " {'title': 'Generic Ball 714bd8f6', 'price': 10.21},\n",
       " {'title': 'Metal Pizza f132da37', 'price': 23.65},\n",
       " {'title': 'Pants fa8e1300', 'price': 62.07},\n",
       " {'title': 'Awesome Fresh Pants 22b06a5e', 'price': 10.5},\n",
       " {'title': 'Plastic Gloves 9743007a', 'price': 24.05},\n",
       " {'title': 'Generic Bike 63bf076c', 'price': 14.49},\n",
       " {'title': 'Cheese b8f2f45c', 'price': 90.71},\n",
       " {'title': 'Unbranded Sausages c0dd2aa3', 'price': 13.59},\n",
       " {'title': 'New Cotton Chips 0ba298e6', 'price': 73.88},\n",
       " {'title': 'Plastic Bike 19f4ca67', 'price': 86.29},\n",
       " {'title': 'Tasty Cotton Fish 5a9f72e0', 'price': 29.81},\n",
       " {'title': 'Small Cheese af70bf4f', 'price': 92.37},\n",
       " {'title': 'Fresh Ball 592eaafb', 'price': 67.91},\n",
       " {'title': 'Salad b7f26329', 'price': 36.95},\n",
       " {'title': 'Tuna 02e836f8', 'price': 36.96},\n",
       " {'title': 'Tuna 905097a8', 'price': 13.55},\n",
       " {'title': 'Ergonomic Chips 09d8bda9', 'price': 51.06},\n",
       " {'title': 'Gently Used Steel Chicken 8d7d9a06', 'price': 67.12},\n",
       " {'title': 'Handcrafted Car ee308a21', 'price': 95.99},\n",
       " {'title': 'Awesome Sausages 0ce1b853', 'price': 61.78},\n",
       " {'title': 'Rustic Wooden Soap 948b785a', 'price': 34.46},\n",
       " {'title': 'Intelligent Ball 7aaeb138', 'price': 97.82},\n",
       " {'title': 'Concrete Ball 93b58e0a', 'price': 82.94},\n",
       " {'title': 'Sausages 18573661', 'price': 36.61},\n",
       " {'title': 'Gorgeous Shirt b14d2135', 'price': 67.06}]"
      ]
     },
     "execution_count": 10,
     "metadata": {},
     "output_type": "execute_result"
    }
   ],
   "source": [
    "data"
   ]
  },
  {
   "cell_type": "code",
   "execution_count": 11,
   "id": "2fbef6eb",
   "metadata": {},
   "outputs": [],
   "source": [
    "save_data(data)"
   ]
  },
  {
   "cell_type": "code",
   "execution_count": null,
   "id": "d8af689e",
   "metadata": {},
   "outputs": [],
   "source": []
  }
 ],
 "metadata": {
  "kernelspec": {
   "display_name": "Django Shell-Plus",
   "language": "python",
   "name": "django_extensions"
  },
  "language_info": {
   "codemirror_mode": {
    "name": "ipython",
    "version": 3
   },
   "file_extension": ".py",
   "mimetype": "text/x-python",
   "name": "python",
   "nbconvert_exporter": "python",
   "pygments_lexer": "ipython3",
   "version": "3.10.6"
  }
 },
 "nbformat": 4,
 "nbformat_minor": 5
}
