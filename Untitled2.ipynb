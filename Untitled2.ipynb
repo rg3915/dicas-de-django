{
 "cells": [
  {
   "cell_type": "code",
   "execution_count": 1,
   "id": "02cb53e9",
   "metadata": {},
   "outputs": [],
   "source": [
    "from pyexcelerate import Workbook"
   ]
  },
  {
   "cell_type": "code",
   "execution_count": 2,
   "id": "4a177bf9",
   "metadata": {},
   "outputs": [],
   "source": [
    "data = [(product.title, product.price) for product in Product.objects.all()]"
   ]
  },
  {
   "cell_type": "code",
   "execution_count": 3,
   "id": "c080127a",
   "metadata": {},
   "outputs": [
    {
     "data": {
      "text/plain": [
       "[('book', Decimal('120.00')),\n",
       " ('iphone', Decimal('7000.00')),\n",
       " ('notebook', Decimal('6500.00')),\n",
       " ('pc game', Decimal('9000.00')),\n",
       " ('television', Decimal('4500.00'))]"
      ]
     },
     "execution_count": 3,
     "metadata": {},
     "output_type": "execute_result"
    }
   ],
   "source": [
    "data"
   ]
  },
  {
   "cell_type": "code",
   "execution_count": 4,
   "id": "51bb81a7",
   "metadata": {},
   "outputs": [],
   "source": [
    "wb = Workbook()"
   ]
  },
  {
   "cell_type": "code",
   "execution_count": 5,
   "id": "6868421d",
   "metadata": {},
   "outputs": [],
   "source": [
    "wb.new_sheet(\"sheet name\", data=data)\n",
    "wb.save(\"/tmp/products_out.xlsx\")"
   ]
  },
  {
   "cell_type": "code",
   "execution_count": null,
   "id": "f7a106cf",
   "metadata": {},
   "outputs": [],
   "source": []
  }
 ],
 "metadata": {
  "kernelspec": {
   "display_name": "Django Shell-Plus",
   "language": "python",
   "name": "django_extensions"
  },
  "language_info": {
   "codemirror_mode": {
    "name": "ipython",
    "version": 3
   },
   "file_extension": ".py",
   "mimetype": "text/x-python",
   "name": "python",
   "nbconvert_exporter": "python",
   "pygments_lexer": "ipython3",
   "version": "3.10.6"
  }
 },
 "nbformat": 4,
 "nbformat_minor": 5
}
